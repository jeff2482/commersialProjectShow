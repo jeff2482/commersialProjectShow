{
  "nbformat": 4,
  "nbformat_minor": 0,
  "metadata": {
    "colab": {
      "provenance": [],
      "authorship_tag": "ABX9TyPa2kZ49pP7T+AQgc0WDGY5",
      "include_colab_link": true
    },
    "kernelspec": {
      "name": "python3",
      "display_name": "Python 3"
    },
    "language_info": {
      "name": "python"
    }
  },
  "cells": [
    {
      "cell_type": "markdown",
      "metadata": {
        "id": "view-in-github",
        "colab_type": "text"
      },
      "source": [
        "<a href=\"https://colab.research.google.com/github/jeff2482/commersialProjectShow/blob/main/20240624.ipynb\" target=\"_parent\"><img src=\"https://colab.research.google.com/assets/colab-badge.svg\" alt=\"Open In Colab\"/></a>"
      ]
    },
    {
      "cell_type": "code",
      "execution_count": null,
      "metadata": {
        "id": "_VCuI4bBCxVn"
      },
      "outputs": [],
      "source": []
    },
    {
      "cell_type": "markdown",
      "source": [
        "# markdownm語法\n",
        "# Latex Mate\n",
        "# $ 夾在中間就會被視為Latex Math語法 $\n",
        "$ Area = \\frac{1}{2x} \\pi r^2$\n"
      ],
      "metadata": {
        "id": "i-Rj66toHxCo"
      }
    },
    {
      "cell_type": "markdown",
      "source": [
        "統計學就是要有X(輸入) Y(輸出)\n",
        "1. 類別型輸出(選擇題):判斷貓狗/判斷畫家\n",
        "->分類問題\n",
        "2. 連續型輸出(計算題):\n",
        "->"
      ],
      "metadata": {
        "id": "vON2hneFNPNy"
      }
    }
  ]
}